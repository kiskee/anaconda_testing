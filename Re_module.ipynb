{
 "cells": [
  {
   "cell_type": "code",
   "execution_count": 10,
   "id": "3d3d216b",
   "metadata": {},
   "outputs": [],
   "source": [
    "import re"
   ]
  },
  {
   "cell_type": "code",
   "execution_count": 11,
   "id": "75a9ce43",
   "metadata": {},
   "outputs": [
    {
     "name": "stdout",
     "output_type": "stream",
     "text": [
      "a\tb\n"
     ]
    }
   ],
   "source": [
    "s = \"a\\tb\"\n",
    "print(s)"
   ]
  },
  {
   "cell_type": "code",
   "execution_count": 12,
   "id": "3cdebb2b",
   "metadata": {},
   "outputs": [
    {
     "name": "stdout",
     "output_type": "stream",
     "text": [
      "a\\tb\n"
     ]
    }
   ],
   "source": [
    "raw_s = r\"a\\tb\"\n",
    "print(raw_s)"
   ]
  },
  {
   "cell_type": "markdown",
   "id": "cbc24250",
   "metadata": {},
   "source": [
    "## re.match - find first match\n",
    "Find match at the beginning of a string\n",
    "Useful to validate input from users"
   ]
  },
  {
   "cell_type": "code",
   "execution_count": 13,
   "id": "d1123d77",
   "metadata": {},
   "outputs": [],
   "source": [
    "pattern = r\"\\d+\"\n",
    "text= \"42 is my luky number\""
   ]
  },
  {
   "cell_type": "code",
   "execution_count": 14,
   "id": "6fca42fb",
   "metadata": {},
   "outputs": [],
   "source": [
    "match = re.match(pattern, text)"
   ]
  },
  {
   "cell_type": "code",
   "execution_count": 15,
   "id": "071cde87",
   "metadata": {},
   "outputs": [
    {
     "name": "stdout",
     "output_type": "stream",
     "text": [
      "42\n"
     ]
    }
   ],
   "source": [
    "if match:\n",
    "    print(match.group(0))\n",
    "else:\n",
    "    print('no match')\n"
   ]
  },
  {
   "cell_type": "markdown",
   "id": "f0963890",
   "metadata": {},
   "source": [
    "##Input validation"
   ]
  },
  {
   "cell_type": "code",
   "execution_count": 25,
   "id": "d39c36af",
   "metadata": {},
   "outputs": [],
   "source": [
    "def is_integer(text):\n",
    "    pattern = r\"^\\d+$\"\n",
    "    \n",
    "    match = re.match(pattern, text)\n",
    "    \n",
    "    if match:\n",
    "        return True\n",
    "    else:\n",
    "        return False"
   ]
  },
  {
   "cell_type": "code",
   "execution_count": 26,
   "id": "2faedc3f",
   "metadata": {},
   "outputs": [
    {
     "data": {
      "text/plain": [
       "False"
      ]
     },
     "execution_count": 26,
     "metadata": {},
     "output_type": "execute_result"
    }
   ],
   "source": [
    "is_integer(\"2df\")"
   ]
  },
  {
   "cell_type": "code",
   "execution_count": 27,
   "id": "ee1ee8ec",
   "metadata": {},
   "outputs": [],
   "source": [
    "def test_is_integer():\n",
    "    pass_list = [\"123\", \"456\", \"900\", \"0991\",  \"qa\"]\n",
    "    fail_list = [\"a123\",\"124a\",\"1 2 3\",\"1\\t2\",\" 12\",\"45 \"]\n",
    "    \n",
    "    for text in pass_list:\n",
    "        if not is_integer(text):\n",
    "            print('\\tFailed to detect an integer',text)\n",
    "    \n",
    "    for text in fail_list:\n",
    "        if is_integer(text):\n",
    "            print('\\tIncorrectly classified as an integer',text)\n",
    "    \n",
    "    print('Test complete')\n",
    "    "
   ]
  },
  {
   "cell_type": "code",
   "execution_count": 28,
   "id": "f4b89540",
   "metadata": {},
   "outputs": [
    {
     "name": "stdout",
     "output_type": "stream",
     "text": [
      "\tFailed to detect an integer qa\n",
      "Test complete\n"
     ]
    }
   ],
   "source": [
    "test_is_integer()"
   ]
  }
 ],
 "metadata": {
  "kernelspec": {
   "display_name": "Python 3 (ipykernel)",
   "language": "python",
   "name": "python3"
  },
  "language_info": {
   "codemirror_mode": {
    "name": "ipython",
    "version": 3
   },
   "file_extension": ".py",
   "mimetype": "text/x-python",
   "name": "python",
   "nbconvert_exporter": "python",
   "pygments_lexer": "ipython3",
   "version": "3.10.9"
  }
 },
 "nbformat": 4,
 "nbformat_minor": 5
}
