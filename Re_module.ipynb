{
 "cells": [
  {
   "cell_type": "code",
   "execution_count": 3,
   "id": "3d3d216b",
   "metadata": {},
   "outputs": [],
   "source": [
    "import re"
   ]
  },
  {
   "cell_type": "code",
   "execution_count": 4,
   "id": "75a9ce43",
   "metadata": {},
   "outputs": [
    {
     "name": "stdout",
     "output_type": "stream",
     "text": [
      "a\tb\n"
     ]
    }
   ],
   "source": [
    "s = \"a\\tb\"\n",
    "print(s)"
   ]
  },
  {
   "cell_type": "code",
   "execution_count": 5,
   "id": "3cdebb2b",
   "metadata": {},
   "outputs": [
    {
     "name": "stdout",
     "output_type": "stream",
     "text": [
      "a\\tb\n"
     ]
    }
   ],
   "source": [
    "raw_s = r\"a\\tb\"\n",
    "print(raw_s)"
   ]
  },
  {
   "cell_type": "markdown",
   "id": "cbc24250",
   "metadata": {},
   "source": [
    "## re.match - find first match\n",
    "Find match at the beginning of a string\n",
    "Useful to validate input from users"
   ]
  },
  {
   "cell_type": "code",
   "execution_count": 6,
   "id": "d1123d77",
   "metadata": {},
   "outputs": [],
   "source": [
    "pattern = r\"\\d+\"\n",
    "text= \"42 is my luky number\""
   ]
  },
  {
   "cell_type": "code",
   "execution_count": 7,
   "id": "6fca42fb",
   "metadata": {},
   "outputs": [],
   "source": [
    "match = re.match(pattern, text)"
   ]
  },
  {
   "cell_type": "code",
   "execution_count": 8,
   "id": "071cde87",
   "metadata": {},
   "outputs": [
    {
     "name": "stdout",
     "output_type": "stream",
     "text": [
      "42\n"
     ]
    }
   ],
   "source": [
    "if match:\n",
    "    print(match.group(0))\n",
    "else:\n",
    "    print('no match')\n"
   ]
  },
  {
   "cell_type": "markdown",
   "id": "f0963890",
   "metadata": {},
   "source": [
    "##Input validation"
   ]
  },
  {
   "cell_type": "code",
   "execution_count": 9,
   "id": "d39c36af",
   "metadata": {},
   "outputs": [],
   "source": [
    "def is_integer(text):\n",
    "    pattern = r\"^\\d+$\"\n",
    "    \n",
    "    match = re.search(pattern, text)\n",
    "    \n",
    "    if match:\n",
    "        return True\n",
    "    else:\n",
    "        return False"
   ]
  },
  {
   "cell_type": "code",
   "execution_count": 10,
   "id": "2faedc3f",
   "metadata": {},
   "outputs": [
    {
     "data": {
      "text/plain": [
       "False"
      ]
     },
     "execution_count": 10,
     "metadata": {},
     "output_type": "execute_result"
    }
   ],
   "source": [
    "is_integer(\"2df\")"
   ]
  },
  {
   "cell_type": "code",
   "execution_count": 11,
   "id": "ee1ee8ec",
   "metadata": {},
   "outputs": [],
   "source": [
    "def test_is_integer():\n",
    "    pass_list = [\"123\", \"456\", \"900\", \"0991\",  \"qa\"]\n",
    "    fail_list = [\"a123\",\"124a\",\"1 2 3\",\"1\\t2\",\" 12\",\"45 \"]\n",
    "    \n",
    "    for text in pass_list:\n",
    "        if not is_integer(text):\n",
    "            print('\\tFailed to detect an integer',text)\n",
    "    \n",
    "    for text in fail_list:\n",
    "        if is_integer(text):\n",
    "            print('\\tIncorrectly classified as an integer',text)\n",
    "    \n",
    "    print('Test complete')\n",
    "    "
   ]
  },
  {
   "cell_type": "code",
   "execution_count": 12,
   "id": "f4b89540",
   "metadata": {},
   "outputs": [
    {
     "name": "stdout",
     "output_type": "stream",
     "text": [
      "\tFailed to detect an integer qa\n",
      "Test complete\n"
     ]
    }
   ],
   "source": [
    "test_is_integer()"
   ]
  },
  {
   "cell_type": "markdown",
   "id": "ab771cf5",
   "metadata": {},
   "source": [
    "## re.search - Find the first match anywhere"
   ]
  },
  {
   "cell_type": "code",
   "execution_count": 15,
   "id": "51fd46b2",
   "metadata": {},
   "outputs": [
    {
     "name": "stdout",
     "output_type": "stream",
     "text": [
      "Found a match: 42 at index: 0\n"
     ]
    }
   ],
   "source": [
    "pattern = r\"\\d+\" # one or more digits\n",
    "\n",
    "text = \"42 is my lucky number\"\n",
    "\n",
    "match = re.search(pattern,text)\n",
    "\n",
    "# check if match was successful\n",
    "if match:\n",
    "    print('Found a match:', match.group(0), 'at index:', match.start())\n",
    "else:\n",
    "    print (\"No match\")  "
   ]
  },
  {
   "cell_type": "code",
   "execution_count": null,
   "id": "41a59c3f",
   "metadata": {},
   "outputs": [],
   "source": [
    "pattern = r\"\\d+\" # \\d = digit. + = one or more.  This pattern matches one or more digits\n",
    "\n",
    "# search method will look for the first match anywhere in the text\n",
    "text = \"my lucky number is 42\"\n",
    "\n",
    "match = re.search(pattern, text)\n",
    "\n",
    "if match:\n",
    "    print('Found a match:',match.group(0), 'at index:', match.start())\n",
    "else:\n",
    "    print(\"No Match\")   "
   ]
  },
  {
   "cell_type": "code",
   "execution_count": null,
   "id": "b467c286",
   "metadata": {},
   "outputs": [],
   "source": [
    "# But, it finds only the first match in the text\n",
    "\n",
    "pattern = r\"\\d+\" # \\d = digit. + = one or more.  This pattern matches one or more digits\n",
    "\n",
    "# search method will look ONLY for the first match anywhere in the text\n",
    "text = \"my lucky numbers are 42 and 24\"\n",
    "\n",
    "match = re.search(pattern, text)\n",
    "\n",
    "if match:\n",
    "    print('Found a match:',match.group(0), 'at index:', match.start())\n",
    "else:\n",
    "    print(\"No Match\")   "
   ]
  },
  {
   "cell_type": "markdown",
   "id": "307a50dd",
   "metadata": {},
   "source": [
    "## re.findall - Find all the matches\n",
    "    This method returns only after scanning the entire text"
   ]
  },
  {
   "cell_type": "code",
   "execution_count": 16,
   "id": "6d0f1dc6",
   "metadata": {},
   "outputs": [
    {
     "name": "stdout",
     "output_type": "stream",
     "text": [
      "Pattern \\d+\n",
      "Found matches: ['10001', '10002', '10003', '10004']\n"
     ]
    }
   ],
   "source": [
    "pattern = r\"\\d+\"\n",
    "text = \"NY postal code are 10001, 10002, 10003, 10004\"\n",
    "\n",
    "print ('Pattern',pattern)\n",
    "# successful match\n",
    "match = re.findall(pattern, text)\n",
    "\n",
    "if match:\n",
    "    print('Found matches:', match)\n",
    "else:\n",
    "    print(\"No Match\")   "
   ]
  },
  {
   "cell_type": "markdown",
   "id": "3fd6cf57",
   "metadata": {},
   "source": [
    "## re.finditer - Iterator\n",
    "method returns an iterator with the first match and you have control to ask for more matches"
   ]
  },
  {
   "cell_type": "code",
   "execution_count": 19,
   "id": "8c7403fa",
   "metadata": {},
   "outputs": [
    {
     "name": "stdout",
     "output_type": "stream",
     "text": [
      "Pattern \\d+\n",
      "Matches\n",
      "\t 10001 at index: 20\n",
      "\t 10002 at index: 27\n",
      "\t 10003 at index: 34\n",
      "\t 10004 at index: 41\n"
     ]
    }
   ],
   "source": [
    "pattern = r\"\\d+\"\n",
    "text = \"NY Postal Codes are 10001, 10002, 10003, 10004\"\n",
    "\n",
    "print ('Pattern',pattern)\n",
    "# successful match\n",
    "match_iter = re.finditer(pattern, text)\n",
    "\n",
    "print ('Matches')\n",
    "for match in match_iter:\n",
    "    print('\\t', match.group(0), 'at index:', match.start())"
   ]
  },
  {
   "cell_type": "markdown",
   "id": "cd2cc0ed",
   "metadata": {},
   "source": [
    "## groups - find sub matches\n",
    "group 0 = refers to the text in a string that matched the pattern\n",
    "group 1..n onwards refer to the sub-groups\n"
   ]
  },
  {
   "cell_type": "code",
   "execution_count": 20,
   "id": "f6a0b9f8",
   "metadata": {},
   "outputs": [
    {
     "name": "stdout",
     "output_type": "stream",
     "text": [
      "Pattern (\\d{4})(\\d{2})(\\d{2})\n",
      "Found a match 20200920 at index: 12\n",
      "Groups ('2020', '09', '20')\n",
      "\tGroup 1 2020 \tat index 12\n",
      "\tGroup 2 09 \tat index 16\n",
      "\tGroup 3 20 \tat index 18\n"
     ]
    }
   ],
   "source": [
    "# Separate year, month and day\n",
    "# 1. pattern = r\"\\d+\"\n",
    "# 2. pattern = r\"\\d{4}\\d{2}\\d{2}\"\n",
    "# 3. pattern = r\"(\\d{4})(\\d{2})(\\d{2})\"\n",
    "\n",
    "pattern = r\"(\\d{4})(\\d{2})(\\d{2})\"\n",
    "text = \"Start Date: 20200920\"\n",
    "\n",
    "print(\"Pattern\",pattern)\n",
    "match = re.search(pattern, text)\n",
    "\n",
    "if match:\n",
    "    print('Found a match', match.group(0), 'at index:', match.start())\n",
    "    \n",
    "    print('Groups', match.groups())\n",
    "        \n",
    "    for idx, value in enumerate(match.groups()):\n",
    "        print ('\\tGroup', idx+1, value, '\\tat index', match.start(idx+1))\n",
    "        \n",
    "else:\n",
    "    print(\"No Match\")"
   ]
  },
  {
   "cell_type": "markdown",
   "id": "8c821d97",
   "metadata": {},
   "source": [
    "## named groups"
   ]
  },
  {
   "cell_type": "code",
   "execution_count": 21,
   "id": "bedbc48e",
   "metadata": {},
   "outputs": [
    {
     "name": "stdout",
     "output_type": "stream",
     "text": [
      "Pattern (?P<year>\\d{4})(?P<month>\\d{2})(?P<day>\\d{2})\n",
      "Found a match 20200920 at index: 12\n",
      "\t {'year': '2020', 'month': '09', 'day': '20'}\n"
     ]
    }
   ],
   "source": [
    "# Separate year, month and day\n",
    "pattern = r\"(?P<year>\\d{4})(?P<month>\\d{2})(?P<day>\\d{2})\"\n",
    "text = \"Start Date: 20200920\"\n",
    "\n",
    "print(\"Pattern\",pattern)\n",
    "match = re.search(pattern, text)\n",
    "\n",
    "if match:\n",
    "    print('Found a match', match.group(0), 'at index:', match.start())    \n",
    "    print('\\t',match.groupdict())\n",
    "else:\n",
    "    print(\"No Match\") "
   ]
  },
  {
   "cell_type": "markdown",
   "id": "0417b996",
   "metadata": {},
   "source": [
    "## access by group name"
   ]
  },
  {
   "cell_type": "code",
   "execution_count": 22,
   "id": "95bd640f",
   "metadata": {},
   "outputs": [
    {
     "name": "stdout",
     "output_type": "stream",
     "text": [
      "Pattern (?P<year>\\d{4})(?P<month>\\d{2})(?P<day>\\d{2})\n",
      "Found a match 20200920 at index: 12\n",
      "\tYear: 2020\n",
      "\tMonth: 09\n",
      "\tDay: 20\n"
     ]
    }
   ],
   "source": [
    "# Separate year, month and day\n",
    "pattern = r\"(?P<year>\\d{4})(?P<month>\\d{2})(?P<day>\\d{2})\"\n",
    "text = \"Start Date: 20200920\"\n",
    "\n",
    "print(\"Pattern\",pattern)\n",
    "match = re.search(pattern, text)\n",
    "\n",
    "if match:\n",
    "    print('Found a match', match.group(0), 'at index:', match.start())    \n",
    "    print('\\tYear:',match.group('year'))\n",
    "    print('\\tMonth:',match.group('month'))\n",
    "    print('\\tDay:',match.group('day'))    \n",
    "else:\n",
    "    print(\"No Match\")"
   ]
  },
  {
   "cell_type": "markdown",
   "id": "c4818221",
   "metadata": {},
   "source": [
    "## re.sub - find and replace"
   ]
  },
  {
   "cell_type": "markdown",
   "id": "ed9e5207",
   "metadata": {},
   "source": [
    "two patterns: one to find the text and another pattern with replacement text"
   ]
  },
  {
   "cell_type": "code",
   "execution_count": 24,
   "id": "f7d64e37",
   "metadata": {},
   "outputs": [
    {
     "name": "stdout",
     "output_type": "stream",
     "text": [
      "original text\t Start Date: 20200920, End Date: 20210920\n",
      "\n",
      "new text\t Start Date: 09-20-2020, End Date: 09-20-2021\n"
     ]
    }
   ],
   "source": [
    "# Format date\n",
    "#  20200920 => 09-20-2020\n",
    "\n",
    "pattern = r\"(?P<year>\\d{4})(?P<month>\\d{2})(?P<day>\\d{2})\"\n",
    "text = \"Start Date: 20200920, End Date: 20210920\"\n",
    "\n",
    "# substitute with value space dollars\n",
    "replacement_pattern = r\"\\g<month>-\\g<day>-\\g<year>\"\n",
    "\n",
    "print ('original text\\t', text)\n",
    "print()\n",
    "\n",
    "# find and replace\n",
    "new_text= re.sub(pattern, replacement_pattern, text)\n",
    "\n",
    "print('new text\\t', new_text)"
   ]
  },
  {
   "cell_type": "code",
   "execution_count": 25,
   "id": "43a41b98",
   "metadata": {},
   "outputs": [
    {
     "name": "stdout",
     "output_type": "stream",
     "text": [
      "original text\t movie ticket: 15dollars. popcorn: 8dollars\n",
      "\n",
      "new text\t movie ticket: 15 dollars. popcorn: 8 dollars\n"
     ]
    }
   ],
   "source": [
    "# Make this an exercise\n",
    "# find one or more digits followed by the word dollars. capture the digits in value group\n",
    "pattern = r\"(?P<value>\\d+)dollars\" \n",
    "\n",
    "text = \"movie ticket: 15dollars. popcorn: 8dollars\"\n",
    "\n",
    "# substitute with value space dollars\n",
    "replacement_pattern = r\"\\g<value> dollars\"\n",
    "\n",
    "print ('original text\\t', text)\n",
    "print()\n",
    "\n",
    "# find and replace\n",
    "new_text= re.sub(pattern, replacement_pattern, text)\n",
    "\n",
    "print('new text\\t', new_text)"
   ]
  },
  {
   "cell_type": "markdown",
   "id": "58f574a2",
   "metadata": {},
   "source": [
    "## custom function to generate replacement text"
   ]
  },
  {
   "cell_type": "code",
   "execution_count": 26,
   "id": "459cd8b5",
   "metadata": {},
   "outputs": [],
   "source": [
    "# Format \n",
    "#   20200920 => Sep-20-2020\n",
    "import datetime"
   ]
  },
  {
   "cell_type": "code",
   "execution_count": 27,
   "id": "43cb9add",
   "metadata": {},
   "outputs": [],
   "source": [
    "def format_date(match):   \n",
    "    in_date = match.groupdict()\n",
    "    \n",
    "    year = int(in_date['year'])\n",
    "    month = int(in_date['month'])\n",
    "    day = int(in_date['day'])\n",
    "    \n",
    "    #https://docs.python.org/3/library/datetime.html#strftime-strptime-behavior\n",
    "    return datetime.date(year,month,day).strftime('%b-%d-%Y')"
   ]
  },
  {
   "cell_type": "code",
   "execution_count": 28,
   "id": "3c43a365",
   "metadata": {},
   "outputs": [
    {
     "name": "stdout",
     "output_type": "stream",
     "text": [
      "original text\t Start Date: 20200920, End Date: 20210920\n",
      "\n",
      "new text\t Start Date: Sep-20-2020, End Date: Sep-20-2021\n"
     ]
    }
   ],
   "source": [
    "# Format date\n",
    "pattern = r\"(?P<year>\\d{4})(?P<month>\\d{2})(?P<day>\\d{2})\"\n",
    "text = \"Start Date: 20200920, End Date: 20210920\"\n",
    "\n",
    "print ('original text\\t', text)\n",
    "print()\n",
    "\n",
    "# find and replace\n",
    "new_text= re.sub(pattern, format_date, text)\n",
    "\n",
    "print('new text\\t', new_text)"
   ]
  },
  {
   "cell_type": "code",
   "execution_count": 29,
   "id": "14b554e6",
   "metadata": {},
   "outputs": [],
   "source": [
    "# Make this an assignment\n",
    "def celsius_to_fahrenheit(match):\n",
    "    degCelsius =  float(match.group(\"celsius\"))\n",
    "    degF = 32.0 + (degCelsius * 9.0 / 5.0);\n",
    "    return '{0}°F'.format(degF);"
   ]
  },
  {
   "cell_type": "code",
   "execution_count": 30,
   "id": "e9a14939",
   "metadata": {},
   "outputs": [],
   "source": [
    "def substitution_example_custom_logic():\n",
    "    pattern = r\"(?P<celsius>\\d+)\\u00B0C\"\n",
    "    text = \"Today's temperature is 25°C\"\n",
    "            \n",
    "    print ('Pattern: {0}'.format(pattern))\n",
    "    print ('Text before: {0}'.format(text))\n",
    "        \n",
    "    new_text = re.sub(pattern, celsius_to_fahrenheit, text)\n",
    "    \n",
    "    print('Text after:  {0}'.format(new_text))"
   ]
  },
  {
   "cell_type": "code",
   "execution_count": 31,
   "id": "9572ade1",
   "metadata": {},
   "outputs": [
    {
     "name": "stdout",
     "output_type": "stream",
     "text": [
      "Pattern: (?P<celsius>\\d+)\\u00B0C\n",
      "Text before: Today's temperature is 25°C\n",
      "Text after:  Today's temperature is 77.0°F\n"
     ]
    }
   ],
   "source": [
    "substitution_example_custom_logic()"
   ]
  },
  {
   "cell_type": "markdown",
   "id": "2e341f3a",
   "metadata": {},
   "source": [
    "## re.split - split text based on specified pattern"
   ]
  },
  {
   "cell_type": "code",
   "execution_count": 32,
   "id": "1c5647f2",
   "metadata": {},
   "outputs": [
    {
     "data": {
      "text/plain": [
       "['a-c', 'x', 'y', '1']"
      ]
     },
     "execution_count": 32,
     "metadata": {},
     "output_type": "execute_result"
    }
   ],
   "source": [
    "pattern = r\",\"\n",
    "\n",
    "text = \"a-c,x,y,1\"\n",
    "\n",
    "re.split(pattern,text)"
   ]
  },
  {
   "cell_type": "code",
   "execution_count": null,
   "id": "e024fdb3",
   "metadata": {},
   "outputs": [],
   "source": []
  }
 ],
 "metadata": {
  "kernelspec": {
   "display_name": "Python 3 (ipykernel)",
   "language": "python",
   "name": "python3"
  },
  "language_info": {
   "codemirror_mode": {
    "name": "ipython",
    "version": 3
   },
   "file_extension": ".py",
   "mimetype": "text/x-python",
   "name": "python",
   "nbconvert_exporter": "python",
   "pygments_lexer": "ipython3",
   "version": "3.10.9"
  }
 },
 "nbformat": 4,
 "nbformat_minor": 5
}
