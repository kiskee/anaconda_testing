{
 "cells": [
  {
   "cell_type": "markdown",
   "id": "eb7dea43",
   "metadata": {},
   "source": [
    "## We must imort all the modules needed"
   ]
  },
  {
   "cell_type": "code",
   "execution_count": null,
   "id": "873aeb27",
   "metadata": {},
   "outputs": [],
   "source": [
    "import time"
   ]
  },
  {
   "cell_type": "code",
   "execution_count": null,
   "id": "4a75ab96",
   "metadata": {},
   "outputs": [],
   "source": [
    "import re"
   ]
  },
  {
   "cell_type": "code",
   "execution_count": null,
   "id": "d57c71a3",
   "metadata": {},
   "outputs": [],
   "source": [
    "import os"
   ]
  },
  {
   "cell_type": "code",
   "execution_count": null,
   "id": "7cc37d11",
   "metadata": {},
   "outputs": [],
   "source": [
    "import datetime"
   ]
  },
  {
   "cell_type": "code",
   "execution_count": null,
   "id": "ecb56122",
   "metadata": {},
   "outputs": [],
   "source": [
    "from pathlib import Path"
   ]
  },
  {
   "cell_type": "code",
   "execution_count": null,
   "id": "062ed912",
   "metadata": {},
   "outputs": [],
   "source": [
    "import math"
   ]
  },
  {
   "cell_type": "markdown",
   "id": "5b948267",
   "metadata": {},
   "source": [
    "## Start of the app"
   ]
  },
  {
   "cell_type": "code",
   "execution_count": null,
   "id": "d8a53ae4",
   "metadata": {},
   "outputs": [],
   "source": [
    "start = time.time()"
   ]
  },
  {
   "cell_type": "code",
   "execution_count": null,
   "id": "643229f3",
   "metadata": {},
   "outputs": [],
   "source": [
    "path = 'C:\\\\Users\\\\Sebastian Medina\\\\Documents\\\\Projects\\\\python_learn\\\\Day9\\\\test'"
   ]
  },
  {
   "cell_type": "code",
   "execution_count": null,
   "id": "f0b03b71",
   "metadata": {},
   "outputs": [],
   "source": [
    "regex = r'N\\D{3}-\\d{5}'"
   ]
  },
  {
   "cell_type": "code",
   "execution_count": null,
   "id": "0a7a3d89",
   "metadata": {},
   "outputs": [],
   "source": [
    "numbers_found = []"
   ]
  },
  {
   "cell_type": "code",
   "execution_count": null,
   "id": "1db6b41b",
   "metadata": {},
   "outputs": [],
   "source": [
    "files_found = []"
   ]
  },
  {
   "cell_type": "code",
   "execution_count": null,
   "id": "78aa34d3",
   "metadata": {},
   "outputs": [],
   "source": [
    "today = datetime.date.today()"
   ]
  },
  {
   "cell_type": "code",
   "execution_count": null,
   "id": "0211c0f9",
   "metadata": {},
   "outputs": [],
   "source": [
    "print(today)"
   ]
  },
  {
   "cell_type": "code",
   "execution_count": null,
   "id": "b554abea",
   "metadata": {},
   "outputs": [],
   "source": [
    "def found_number(file, regex):\n",
    "    this_file = open(file, 'r')\n",
    "    text = this_file.read()\n",
    "    if re.search(regex, text):\n",
    "        return re.search(regex, text)\n",
    "    else:\n",
    "        return ''"
   ]
  },
  {
   "cell_type": "code",
   "execution_count": null,
   "id": "67fc2ce1",
   "metadata": {},
   "outputs": [],
   "source": [
    "def list_maker():\n",
    "    for folder, subfolder, file in os.walk(path):\n",
    "        for a in file:\n",
    "            result = found_number(Path(folder, a), regex)\n",
    "            if result != '':\n",
    "                numbers_found.append((result.group()))\n",
    "                files_found.append(a.title())"
   ]
  },
  {
   "cell_type": "code",
   "execution_count": null,
   "id": "c2cbeb07",
   "metadata": {},
   "outputs": [],
   "source": [
    "def show_all():\n",
    "    ind = 0\n",
    "    print('-' * 50)\n",
    "    print(f'Date of the search: {today.day}/{today.month}/{today.year}')\n",
    "    print('\\n')\n",
    "    print('FILE\\t\\t\\tNRO. SERIE')\n",
    "    print('-------\\t\\t\\t----------')\n",
    "    for a in files_found:\n",
    "        print(f'{a}\\t{numbers_found[ind]}')\n",
    "        ind += 1\n",
    "    print('\\n')\n",
    "    print(f'Numbers founded: {len(numbers_found)}')\n",
    "    end = time.time()\n",
    "    duration = start - end\n",
    "    print(f'The duration of the search took: {math.ceil(duration)} seconds')\n",
    "    print('-' * 50)"
   ]
  },
  {
   "cell_type": "code",
   "execution_count": null,
   "id": "27866e04",
   "metadata": {},
   "outputs": [],
   "source": [
    "list_maker()"
   ]
  },
  {
   "cell_type": "code",
   "execution_count": null,
   "id": "cc432f94",
   "metadata": {},
   "outputs": [],
   "source": [
    "show_all()"
   ]
  },
  {
   "cell_type": "code",
   "execution_count": null,
   "id": "2c230ddf",
   "metadata": {},
   "outputs": [],
   "source": []
  }
 ],
 "metadata": {
  "kernelspec": {
   "display_name": "Python 3 (ipykernel)",
   "language": "python",
   "name": "python3"
  },
  "language_info": {
   "codemirror_mode": {
    "name": "ipython",
    "version": 3
   },
   "file_extension": ".py",
   "mimetype": "text/x-python",
   "name": "python",
   "nbconvert_exporter": "python",
   "pygments_lexer": "ipython3",
   "version": "3.10.9"
  }
 },
 "nbformat": 4,
 "nbformat_minor": 5
}
